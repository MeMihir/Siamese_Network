{
  "nbformat": 4,
  "nbformat_minor": 0,
  "metadata": {
    "kernelspec": {
      "display_name": "Python 3",
      "language": "python",
      "name": "python3"
    },
    "language_info": {
      "codemirror_mode": {
        "name": "ipython",
        "version": 3
      },
      "file_extension": ".py",
      "mimetype": "text/x-python",
      "name": "python",
      "nbconvert_exporter": "python",
      "pygments_lexer": "ipython3",
      "version": "3.7.6"
    },
    "colab": {
      "name": "Siamese Network with Triplet Loss in Keras - Complete.ipynb",
      "provenance": []
    },
    "accelerator": "GPU"
  },
  "cells": [
    {
      "cell_type": "markdown",
      "metadata": {
        "id": "JG6AIsqYzYu7",
        "colab_type": "text"
      },
      "source": [
        "# Create a Siamese Network with Triplet Loss in Keras"
      ]
    },
    {
      "cell_type": "markdown",
      "metadata": {
        "id": "vpmmz6ugzYu8",
        "colab_type": "text"
      },
      "source": [
        "# Task 1: Understanding the Approach"
      ]
    },
    {
      "cell_type": "code",
      "metadata": {
        "id": "AeaAVatlzYu9",
        "colab_type": "code",
        "colab": {
          "base_uri": "https://localhost:8080/",
          "height": 34
        },
        "outputId": "a8986dc9-4207-49c8-ce51-8a243042a57e"
      },
      "source": [
        "# %matplotlib notebook\n",
        "\n",
        "import tensorflow as tf\n",
        "import matplotlib.pyplot as plt\n",
        "import numpy as np\n",
        "import random\n",
        "import pandas as pd\n",
        "\n",
        "from pca_plotter import PCAPlotter\n",
        "\n",
        "print('TensorFlow version:', tf.__version__)"
      ],
      "execution_count": 2,
      "outputs": [
        {
          "output_type": "stream",
          "text": [
            "TensorFlow version: 2.2.0\n"
          ],
          "name": "stdout"
        }
      ]
    },
    {
      "cell_type": "markdown",
      "metadata": {
        "id": "Yq9gagP7zYvH",
        "colab_type": "text"
      },
      "source": [
        "## Understanding the Approach\n",
        "\n",
        "This appraoch is taken from the popular [FaceNet](https://arxiv.org/abs/1503.03832) paper.\n",
        "\n",
        "We have a CNN model called `EmbeddingModel`:\n",
        "\n",
        "![CNN](assets/CNN.png)\n",
        "\n",
        "We use three images for each training example:\n",
        "1. `person1_image1.jpg` (Anchor Example, represented below in green)\n",
        "2. `person1_image2.jpg` (Positive Example, in blue)\n",
        "3. `person2_image1.jpg` (Negative Example, in red).\n",
        "\n",
        "![Embeddings](assets/embeddings.png)\n",
        "\n",
        "\n",
        "## Siamese Network\n",
        "\n",
        "All the three images of an example pass through the model, and we get the three Embeddings: One for the Anchor Example, one for the Positive Example, and one for the Negative Example.\n",
        "\n",
        "![Siamese Network](assets/siamese.png)\n",
        "\n",
        "The three instances of the `EmbeddingModel` shown above are not different instances. It's the same, shared model instance - i.e. the parameters are shared, and are updated for all the three paths simultaneously."
      ]
    },
    {
      "cell_type": "markdown",
      "metadata": {
        "id": "wSgbsCXqzYvI",
        "colab_type": "text"
      },
      "source": [
        "# Task 2: Importing the Data"
      ]
    },
    {
      "cell_type": "code",
      "metadata": {
        "id": "rfLocC-pzYvJ",
        "colab_type": "code",
        "colab": {
          "base_uri": "https://localhost:8080/",
          "height": 68
        },
        "outputId": "6aa4544a-79ce-48e5-a187-8b2e8203c5a9"
      },
      "source": [
        "(x_train, y_train), (x_test, y_test) = tf.keras.datasets.mnist.load_data()\n",
        "print(x_train.shape)"
      ],
      "execution_count": 3,
      "outputs": [
        {
          "output_type": "stream",
          "text": [
            "Downloading data from https://storage.googleapis.com/tensorflow/tf-keras-datasets/mnist.npz\n",
            "11493376/11490434 [==============================] - 0s 0us/step\n",
            "(60000, 28, 28)\n"
          ],
          "name": "stdout"
        }
      ]
    },
    {
      "cell_type": "code",
      "metadata": {
        "id": "E8T0LjmFzYvP",
        "colab_type": "code",
        "colab": {
          "base_uri": "https://localhost:8080/",
          "height": 34
        },
        "outputId": "293da6a7-842c-46cf-9396-afd6143e2f71"
      },
      "source": [
        "x_train = np.reshape(x_train, (x_train.shape[0], 784))/255.\n",
        "x_test = np.reshape(x_test, (x_test.shape[0], 784))/255.\n",
        "print(x_train.shape)"
      ],
      "execution_count": 4,
      "outputs": [
        {
          "output_type": "stream",
          "text": [
            "(60000, 784)\n"
          ],
          "name": "stdout"
        }
      ]
    },
    {
      "cell_type": "markdown",
      "metadata": {
        "id": "BHb2Iu0kzYvU",
        "colab_type": "text"
      },
      "source": [
        "# Task 3: Plotting Examples"
      ]
    },
    {
      "cell_type": "code",
      "metadata": {
        "id": "M527upi9zYvW",
        "colab_type": "code",
        "colab": {}
      },
      "source": [
        "def plot_triplets(examples):\n",
        "    plt.figure(figsize=(6, 2))\n",
        "    for i in range(3):\n",
        "        plt.subplot(1, 3, 1 + i)\n",
        "        plt.imshow(np.reshape(examples[i], (28, 28)), cmap='binary')\n",
        "        plt.xticks([])\n",
        "        plt.yticks([])\n",
        "    plt.show()"
      ],
      "execution_count": 5,
      "outputs": []
    },
    {
      "cell_type": "code",
      "metadata": {
        "id": "Z3CUZ4QkzYvb",
        "colab_type": "code",
        "colab": {
          "base_uri": "https://localhost:8080/",
          "height": 133
        },
        "outputId": "1b03af8b-f065-4836-fecf-6ed49c23e0ec"
      },
      "source": [
        "plot_triplets([x_train[0], x_train[1], x_train[2]])"
      ],
      "execution_count": 6,
      "outputs": [
        {
          "output_type": "display_data",
          "data": {
            "image/png": "[encoded data removed]",
            "text/plain": [
              "<Figure size 432x144 with 3 Axes>"
            ]
          },
          "metadata": {
            "tags": []
          }
        }
      ]
    },
    {
      "cell_type": "markdown",
      "metadata": {
        "id": "nbnmD0k0zYvg",
        "colab_type": "text"
      },
      "source": [
        "# Task 4: A Batch of Triplets"
      ]
    },
    {
      "cell_type": "code",
      "metadata": {
        "id": "wUEBeN9EzYvi",
        "colab_type": "code",
        "colab": {}
      },
      "source": [
        "def create_batch(batch_size=256):\n",
        "    x_anchors = np.zeros((batch_size, 784))\n",
        "    x_positives = np.zeros((batch_size, 784))\n",
        "    x_negatives = np.zeros((batch_size, 784))\n",
        "    \n",
        "    for i in range(0, batch_size):\n",
        "        # We need to find an anchor, a positive example and a negative example\n",
        "        random_index = random.randint(0, x_train.shape[0] - 1)\n",
        "        x_anchor = x_train[random_index]\n",
        "        y = y_train[random_index]\n",
        "        \n",
        "        indices_for_pos = np.squeeze(np.where(y_train == y))\n",
        "        indices_for_neg = np.squeeze(np.where(y_train != y))\n",
        "        \n",
        "        x_positive = x_train[indices_for_pos[random.randint(0, len(indices_for_pos) - 1)]]\n",
        "        x_negative = x_train[indices_for_neg[random.randint(0, len(indices_for_neg) - 1)]]\n",
        "        \n",
        "        x_anchors[i] = x_anchor\n",
        "        x_positives[i] = x_positive\n",
        "        x_negatives[i] = x_negative\n",
        "        \n",
        "    return [x_anchors, x_positives, x_negatives]"
      ],
      "execution_count": 7,
      "outputs": []
    },
    {
      "cell_type": "code",
      "metadata": {
        "id": "V8IeSOF7zYvo",
        "colab_type": "code",
        "colab": {
          "base_uri": "https://localhost:8080/",
          "height": 133
        },
        "outputId": "5fd9b76a-1c9f-4173-ddbb-584cab81178d"
      },
      "source": [
        "examples = create_batch(1)\n",
        "plot_triplets(examples)"
      ],
      "execution_count": 8,
      "outputs": [
        {
          "output_type": "display_data",
          "data": {
            "image/png": "[encoded data removed]",
            "text/plain": [
              "<Figure size 432x144 with 3 Axes>"
            ]
          },
          "metadata": {
            "tags": []
          }
        }
      ]
    },
    {
      "cell_type": "markdown",
      "metadata": {
        "id": "cE61dNaxzYvu",
        "colab_type": "text"
      },
      "source": [
        "# Task 5: Embedding Model"
      ]
    },
    {
      "cell_type": "code",
      "metadata": {
        "id": "UehjNAblzYvv",
        "colab_type": "code",
        "colab": {
          "base_uri": "https://localhost:8080/",
          "height": 221
        },
        "outputId": "195cba46-6f08-4e8e-9a18-a75eefe4a93e"
      },
      "source": [
        "emb_size = 64\n",
        "\n",
        "embedding_model = tf.keras.models.Sequential([\n",
        "    tf.keras.layers.Dense(64, activation='relu', input_shape=(784,)),\n",
        "    tf.keras.layers.Dense(emb_size, activation='sigmoid')\n",
        "])\n",
        "\n",
        "embedding_model.summary()"
      ],
      "execution_count": 9,
      "outputs": [
        {
          "output_type": "stream",
          "text": [
            "Model: \"sequential\"\n",
            "_________________________________________________________________\n",
            "Layer (type)                 Output Shape              Param #   \n",
            "=================================================================\n",
            "dense (Dense)                (None, 64)                50240     \n",
            "_________________________________________________________________\n",
            "dense_1 (Dense)              (None, 64)                4160      \n",
            "=================================================================\n",
            "Total params: 54,400\n",
            "Trainable params: 54,400\n",
            "Non-trainable params: 0\n",
            "_________________________________________________________________\n"
          ],
          "name": "stdout"
        }
      ]
    },
    {
      "cell_type": "code",
      "metadata": {
        "id": "GCAp-ZwpzYv2",
        "colab_type": "code",
        "colab": {
          "base_uri": "https://localhost:8080/",
          "height": 204
        },
        "outputId": "5238e4a9-50c1-475f-8bb3-04aa786e6b8d"
      },
      "source": [
        "example = np.expand_dims(x_train[0], axis=0)\n",
        "example_emb = embedding_model.predict(example)[0]\n",
        "\n",
        "print(example_emb)"
      ],
      "execution_count": 10,
      "outputs": [
        {
          "output_type": "stream",
          "text": [
            "[0.5361992  0.5291213  0.38332033 0.3859929  0.4494202  0.50007874\n",
            " 0.580546   0.5031321  0.532643   0.4787781  0.57359046 0.5686656\n",
            " 0.5537185  0.37795377 0.62591517 0.3922003  0.605875   0.57014036\n",
            " 0.44359943 0.5566838  0.4059017  0.4626074  0.46671143 0.39956802\n",
            " 0.5062188  0.58730483 0.49559492 0.52020615 0.49074462 0.5014859\n",
            " 0.50568706 0.4090807  0.60405236 0.3351264  0.55618244 0.4862963\n",
            " 0.37212506 0.43908858 0.58375984 0.36123058 0.52070284 0.49770424\n",
            " 0.34776622 0.41324934 0.28655136 0.48748717 0.5561766  0.43162438\n",
            " 0.31028283 0.3939712  0.52220166 0.57454824 0.5273187  0.5138674\n",
            " 0.39531744 0.4324115  0.4632732  0.43363488 0.5674787  0.5048712\n",
            " 0.4787592  0.503473   0.47756103 0.44657615]\n"
          ],
          "name": "stdout"
        }
      ]
    },
    {
      "cell_type": "markdown",
      "metadata": {
        "id": "gcndTMVLzYv7",
        "colab_type": "text"
      },
      "source": [
        "# Task 6: Siamese Network"
      ]
    },
    {
      "cell_type": "code",
      "metadata": {
        "id": "Gg_8QEzbzYv8",
        "colab_type": "code",
        "colab": {
          "base_uri": "https://localhost:8080/",
          "height": 391
        },
        "outputId": "8f79e7d3-40fb-430e-bf43-89323260bea6"
      },
      "source": [
        "input_anchor = tf.keras.layers.Input(shape=(784,))\n",
        "input_positive = tf.keras.layers.Input(shape=(784,))\n",
        "input_negative = tf.keras.layers.Input(shape=(784,))\n",
        "\n",
        "embedding_anchor = embedding_model(input_anchor)\n",
        "embedding_positive = embedding_model(input_positive)\n",
        "embedding_negative = embedding_model(input_negative)\n",
        "\n",
        "output = tf.keras.layers.concatenate([embedding_anchor, embedding_positive, embedding_negative], axis=1)\n",
        "\n",
        "net = tf.keras.models.Model([input_anchor, input_positive, input_negative], output)\n",
        "net.summary()"
      ],
      "execution_count": 11,
      "outputs": [
        {
          "output_type": "stream",
          "text": [
            "Model: \"model\"\n",
            "__________________________________________________________________________________________________\n",
            "Layer (type)                    Output Shape         Param #     Connected to                     \n",
            "==================================================================================================\n",
            "input_1 (InputLayer)            [(None, 784)]        0                                            \n",
            "__________________________________________________________________________________________________\n",
            "input_2 (InputLayer)            [(None, 784)]        0                                            \n",
            "__________________________________________________________________________________________________\n",
            "input_3 (InputLayer)            [(None, 784)]        0                                            \n",
            "__________________________________________________________________________________________________\n",
            "sequential (Sequential)         (None, 64)           54400       input_1[0][0]                    \n",
            "                                                                 input_2[0][0]                    \n",
            "                                                                 input_3[0][0]                    \n",
            "__________________________________________________________________________________________________\n",
            "concatenate (Concatenate)       (None, 192)          0           sequential[1][0]                 \n",
            "                                                                 sequential[2][0]                 \n",
            "                                                                 sequential[3][0]                 \n",
            "==================================================================================================\n",
            "Total params: 54,400\n",
            "Trainable params: 54,400\n",
            "Non-trainable params: 0\n",
            "__________________________________________________________________________________________________\n"
          ],
          "name": "stdout"
        }
      ]
    },
    {
      "cell_type": "markdown",
      "metadata": {
        "id": "9CpgHiU3zYwD",
        "colab_type": "text"
      },
      "source": [
        "# Task 7: Triplet Loss\n",
        "\n",
        "A loss function that tries to pull the Embeddings of Anchor and Positive Examples closer, and tries to push the Embeddings of Anchor and Negative Examples away from each other.\n",
        "\n",
        "Root mean square difference between Anchor and Positive examples in a batch of N images is:\n",
        "$\n",
        "\\begin{equation}\n",
        "d_p = \\sqrt{\\frac{\\sum_{i=0}^{N-1}(f(a_i) - f(p_i))^2}{N}}\n",
        "\\end{equation}\n",
        "$\n",
        "\n",
        "Root mean square difference between Anchor and Negative examples in a batch of N images is:\n",
        "$\n",
        "\\begin{equation}\n",
        "d_n = \\sqrt{\\frac{\\sum_{i=0}^{N-1}(f(a_i) - f(n_i))^2}{N}}\n",
        "\\end{equation}\n",
        "$\n",
        "\n",
        "For each example, we want:\n",
        "$\n",
        "\\begin{equation}\n",
        "d_p \\leq d_n\n",
        "\\end{equation}\n",
        "$\n",
        "\n",
        "Therefore,\n",
        "$\n",
        "\\begin{equation}\n",
        "d_p - d_n \\leq 0\n",
        "\\end{equation}\n",
        "$\n",
        "\n",
        "This condition is quite easily satisfied during the training.\n",
        "\n",
        "We will make it non-trivial by adding a margin (alpha):\n",
        "$\n",
        "\\begin{equation}\n",
        "d_p - d_n + \\alpha \\leq 0\n",
        "\\end{equation}\n",
        "$\n",
        "\n",
        "Given the condition above, the Triplet Loss L is defined as:\n",
        "$\n",
        "\\begin{equation}\n",
        "L = max(d_p - d_n + \\alpha, 0)\n",
        "\\end{equation}\n",
        "$"
      ]
    },
    {
      "cell_type": "code",
      "metadata": {
        "id": "rOS9hYrDzYwE",
        "colab_type": "code",
        "colab": {}
      },
      "source": [
        "alpha = 0.2\n",
        "\n",
        "def triplet_loss(y_true, y_pred):\n",
        "    anchor, positive, negative = y_pred[:,:emb_size], y_pred[:,emb_size:2*emb_size], y_pred[:,2*emb_size:]\n",
        "    positive_dist = tf.reduce_mean(tf.square(anchor - positive), axis=1)\n",
        "    negative_dist = tf.reduce_mean(tf.square(anchor - negative), axis=1)\n",
        "    return tf.maximum(positive_dist - negative_dist + alpha, 0.)"
      ],
      "execution_count": 12,
      "outputs": []
    },
    {
      "cell_type": "markdown",
      "metadata": {
        "id": "rO7z4ukLzYwK",
        "colab_type": "text"
      },
      "source": [
        "# Task 8: Data Generator"
      ]
    },
    {
      "cell_type": "code",
      "metadata": {
        "id": "pFuUdMG_zYwL",
        "colab_type": "code",
        "colab": {}
      },
      "source": [
        "def data_generator(batch_size=256):\n",
        "    while True:\n",
        "        x = create_batch(batch_size)\n",
        "        y = np.zeros((batch_size, 3*emb_size))\n",
        "        yield x, y"
      ],
      "execution_count": 13,
      "outputs": []
    },
    {
      "cell_type": "markdown",
      "metadata": {
        "id": "7orKXuMUzYwO",
        "colab_type": "text"
      },
      "source": [
        "# Task 9: Model Training"
      ]
    },
    {
      "cell_type": "code",
      "metadata": {
        "id": "WlSgrb70zYwP",
        "colab_type": "code",
        "colab": {
          "base_uri": "https://localhost:8080/",
          "height": 279
        },
        "outputId": "23dbb7ac-ccde-48ef-b63d-aab0668e9c12"
      },
      "source": [
        "batch_size = 2048\n",
        "epochs = 10\n",
        "steps_per_epoch = int(x_train.shape[0]/batch_size)\n",
        "\n",
        "net.compile(loss=triplet_loss, optimizer='adam')\n",
        "\n",
        "_ = net.fit(\n",
        "    data_generator(batch_size),\n",
        "    steps_per_epoch=steps_per_epoch,\n",
        "    epochs=epochs, verbose=False,\n",
        "    callbacks=[\n",
        "        PCAPlotter(\n",
        "            plt, embedding_model,\n",
        "            x_test[:1000], y_test[:1000],\n",
        "            epochs=epochs\n",
        "        )]\n",
        ")"
      ],
      "execution_count": 14,
      "outputs": [
        {
          "output_type": "display_data",
          "data": {
            "image/png": "[encoded data removed]",
            "text/plain": [
              "<Figure size 648x288 with 2 Axes>"
            ]
          },
          "metadata": {
            "tags": [],
            "needs_background": "light"
          }
        }
      ]
    },
    {
      "cell_type": "markdown",
      "metadata": {
        "id": "SwOwoZim2Gp0",
        "colab_type": "text"
      },
      "source": [
        "# Task 10: Saving and Loading the model"
      ]
    },
    {
      "cell_type": "code",
      "metadata": {
        "id": "cPxSvtOozYwV",
        "colab_type": "code",
        "colab": {
          "base_uri": "https://localhost:8080/",
          "height": 122
        },
        "outputId": "4e13e04b-3f55-4fea-b44f-7cd811ad00b4"
      },
      "source": [
        "net.save('Siamese')\n",
        "embedding_model.save('Siamene_Embedding')"
      ],
      "execution_count": 15,
      "outputs": [
        {
          "output_type": "stream",
          "text": [
            "WARNING:tensorflow:From /usr/local/lib/python3.6/dist-packages/tensorflow/python/ops/resource_variable_ops.py:1817: calling BaseResourceVariable.__init__ (from tensorflow.python.ops.resource_variable_ops) with constraint is deprecated and will be removed in a future version.\n",
            "Instructions for updating:\n",
            "If using Keras pass *_constraint arguments to layers.\n",
            "INFO:tensorflow:Assets written to: Siamese/assets\n",
            "INFO:tensorflow:Assets written to: Siamene_Embedding/assets\n"
          ],
          "name": "stdout"
        }
      ]
    },
    {
      "cell_type": "code",
      "metadata": {
        "id": "IsunGjxg1mTR",
        "colab_type": "code",
        "colab": {
          "base_uri": "https://localhost:8080/",
          "height": 255
        },
        "outputId": "e3600209-b60d-4891-b4a1-b42f6df787cc"
      },
      "source": [
        "!zip -r Siamese.zip Siamese\n",
        "!zip -r Siamene_Embedding.zip Siamene_Embedding"
      ],
      "execution_count": 16,
      "outputs": [
        {
          "output_type": "stream",
          "text": [
            "  adding: Siamese/ (stored 0%)\n",
            "  adding: Siamese/assets/ (stored 0%)\n",
            "  adding: Siamese/saved_model.pb (deflated 89%)\n",
            "  adding: Siamese/variables/ (stored 0%)\n",
            "  adding: Siamese/variables/variables.data-00001-of-00002 (deflated 11%)\n",
            "  adding: Siamese/variables/variables.index (deflated 60%)\n",
            "  adding: Siamese/variables/variables.data-00000-of-00002 (deflated 75%)\n",
            "  adding: Siamene_Embedding/ (stored 0%)\n",
            "  adding: Siamene_Embedding/assets/ (stored 0%)\n",
            "  adding: Siamene_Embedding/saved_model.pb (deflated 87%)\n",
            "  adding: Siamene_Embedding/variables/ (stored 0%)\n",
            "  adding: Siamene_Embedding/variables/variables.data-00001-of-00002 (deflated 7%)\n",
            "  adding: Siamene_Embedding/variables/variables.index (deflated 41%)\n",
            "  adding: Siamene_Embedding/variables/variables.data-00000-of-00002 (deflated 69%)\n"
          ],
          "name": "stdout"
        }
      ]
    },
    {
      "cell_type": "code",
      "metadata": {
        "id": "PT60kQMuzYwf",
        "colab_type": "code",
        "colab": {}
      },
      "source": [
        "simese = tf.keras.models.load_model(\"/content/Siamese\", custom_objects={'triplet_loss':triplet_loss})\n",
        "# embedding = tf.keras.models.load_model(\"Siamese_Embedding\")"
      ],
      "execution_count": 23,
      "outputs": []
    },
    {
      "cell_type": "code",
      "metadata": {
        "id": "g8V3nFeob5Q9",
        "colab_type": "code",
        "colab": {
          "base_uri": "https://localhost:8080/",
          "height": 54
        },
        "outputId": "ca76ff05-0eb0-4751-e653-a726edb255f9"
      },
      "source": [
        "embedding = tf.keras.models.load_model(\"/content/Siamene_Embedding\")"
      ],
      "execution_count": 24,
      "outputs": [
        {
          "output_type": "stream",
          "text": [
            "WARNING:tensorflow:No training configuration found in save file, so the model was *not* compiled. Compile it manually.\n"
          ],
          "name": "stdout"
        }
      ]
    },
    {
      "cell_type": "code",
      "metadata": {
        "id": "hUEnCZekzYwl",
        "colab_type": "code",
        "colab": {
          "base_uri": "https://localhost:8080/",
          "height": 391
        },
        "outputId": "68a23d12-af13-46b3-b9d9-f9ac95e659be"
      },
      "source": [
        "simese.summary()"
      ],
      "execution_count": 25,
      "outputs": [
        {
          "output_type": "stream",
          "text": [
            "Model: \"model\"\n",
            "__________________________________________________________________________________________________\n",
            "Layer (type)                    Output Shape         Param #     Connected to                     \n",
            "==================================================================================================\n",
            "input_1 (InputLayer)            [(None, 784)]        0                                            \n",
            "__________________________________________________________________________________________________\n",
            "input_2 (InputLayer)            [(None, 784)]        0                                            \n",
            "__________________________________________________________________________________________________\n",
            "input_3 (InputLayer)            [(None, 784)]        0                                            \n",
            "__________________________________________________________________________________________________\n",
            "sequential (Sequential)         (None, 64)           54400       input_1[0][0]                    \n",
            "                                                                 input_2[0][0]                    \n",
            "                                                                 input_3[0][0]                    \n",
            "__________________________________________________________________________________________________\n",
            "concatenate (Concatenate)       (None, 192)          0           sequential[1][0]                 \n",
            "                                                                 sequential[2][0]                 \n",
            "                                                                 sequential[3][0]                 \n",
            "==================================================================================================\n",
            "Total params: 54,400\n",
            "Trainable params: 54,400\n",
            "Non-trainable params: 0\n",
            "__________________________________________________________________________________________________\n"
          ],
          "name": "stdout"
        }
      ]
    },
    {
      "cell_type": "code",
      "metadata": {
        "id": "jQ36Y4gCcMGI",
        "colab_type": "code",
        "colab": {
          "base_uri": "https://localhost:8080/",
          "height": 221
        },
        "outputId": "8d2b3681-e584-4d36-a653-8afd0044ff50"
      },
      "source": [
        "embedding.summary()"
      ],
      "execution_count": 27,
      "outputs": [
        {
          "output_type": "stream",
          "text": [
            "Model: \"sequential\"\n",
            "_________________________________________________________________\n",
            "Layer (type)                 Output Shape              Param #   \n",
            "=================================================================\n",
            "dense (Dense)                (None, 64)                50240     \n",
            "_________________________________________________________________\n",
            "dense_1 (Dense)              (None, 64)                4160      \n",
            "=================================================================\n",
            "Total params: 54,400\n",
            "Trainable params: 54,400\n",
            "Non-trainable params: 0\n",
            "_________________________________________________________________\n"
          ],
          "name": "stdout"
        }
      ]
    },
    {
      "cell_type": "markdown",
      "metadata": {
        "id": "zV9Humn_2w-Q",
        "colab_type": "text"
      },
      "source": [
        "# Task 11: Creating DataBase"
      ]
    },
    {
      "cell_type": "code",
      "metadata": {
        "id": "78aRgbl99KWE",
        "colab_type": "code",
        "colab": {}
      },
      "source": [
        "def get_embedding(img):\n",
        "  img = np.expand_dims(img, axis=0)\n",
        "  img_emb = embedding_model.predict(img)[0]\n",
        "  return img_emb"
      ],
      "execution_count": 28,
      "outputs": []
    },
    {
      "cell_type": "code",
      "metadata": {
        "id": "F7KTMtUp7rEH",
        "colab_type": "code",
        "colab": {}
      },
      "source": [
        "db = []\n",
        "embeddings = []\n",
        "for i in range(10):\n",
        "  img = x_train\n",
        "  db.append([i, np.where(y_train == i)[0][0]])\n",
        "\n",
        "  img = x_train[db[i][1]]\n",
        "  img_emb = get_embedding(img)\n",
        "  embeddings.append(img_emb)\n",
        "db = np.array(db)\n",
        "db = pd.DataFrame(db, columns=['name', 'example'])\n",
        "db['embedding'] = embeddings\n"
      ],
      "execution_count": 29,
      "outputs": []
    },
    {
      "cell_type": "code",
      "metadata": {
        "id": "vgRCT3MKFY88",
        "colab_type": "code",
        "colab": {}
      },
      "source": [
        "db.to_csv('database.csv')"
      ],
      "execution_count": 30,
      "outputs": []
    },
    {
      "cell_type": "markdown",
      "metadata": {
        "id": "RopqpDjKHZQg",
        "colab_type": "text"
      },
      "source": [
        "# Task 12: Testing the model"
      ]
    },
    {
      "cell_type": "code",
      "metadata": {
        "id": "3AaDvy4BE919",
        "colab_type": "code",
        "colab": {}
      },
      "source": [
        "def get_number(img):\n",
        "  img_emb = get_embedding(img)\n",
        "  res_arr = db['embedding'].apply(lambda x: np.sum(np.abs(x-img_emb)))\n",
        "  return np.where(res_arr == min(res_arr))[0][0]"
      ],
      "execution_count": 31,
      "outputs": []
    },
    {
      "cell_type": "code",
      "metadata": {
        "id": "aHTBWxX8GS6H",
        "colab_type": "code",
        "colab": {
          "base_uri": "https://localhost:8080/",
          "height": 34
        },
        "outputId": "a33b375c-8f6d-42c2-c718-69869d3dda17"
      },
      "source": [
        "np.where(y_test == 9)"
      ],
      "execution_count": 32,
      "outputs": [
        {
          "output_type": "execute_result",
          "data": {
            "text/plain": [
              "(array([   7,    9,   12, ..., 9945, 9973, 9992]),)"
            ]
          },
          "metadata": {
            "tags": []
          },
          "execution_count": 32
        }
      ]
    },
    {
      "cell_type": "code",
      "metadata": {
        "id": "0Tp6jAM7FtOV",
        "colab_type": "code",
        "colab": {
          "base_uri": "https://localhost:8080/",
          "height": 34
        },
        "outputId": "b82ab9e7-7314-4f7d-be41-221ae8f3970f"
      },
      "source": [
        "get_number(x_test[9])"
      ],
      "execution_count": 33,
      "outputs": [
        {
          "output_type": "execute_result",
          "data": {
            "text/plain": [
              "9"
            ]
          },
          "metadata": {
            "tags": []
          },
          "execution_count": 33
        }
      ]
    },
    {
      "cell_type": "code",
      "metadata": {
        "id": "S0FAa4t4LdXP",
        "colab_type": "code",
        "colab": {}
      },
      "source": [
        ""
      ],
      "execution_count": null,
      "outputs": []
    }
  ]
}